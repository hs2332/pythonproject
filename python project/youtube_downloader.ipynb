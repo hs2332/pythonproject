{
 "cells": [
  {
   "cell_type": "code",
   "execution_count": 1,
   "metadata": {},
   "outputs": [],
   "source": [
    "from pytube import YouTube\n",
    "from tkinter import *\n",
    "from tkinter.filedialog import *\n",
    "from tkinter.messagebox import *\n",
    "from threading import *"
   ]
  },
  {
   "cell_type": "code",
   "execution_count": 3,
   "metadata": {},
   "outputs": [],
   "source": [
    "##yt=YouTube(\"https://www.youtube.com/watch?v=v2-9rIL_f4w\")"
   ]
  },
  {
   "cell_type": "code",
   "execution_count": 4,
   "metadata": {},
   "outputs": [],
   "source": [
    "##print(yt.title)"
   ]
  },
  {
   "cell_type": "code",
   "execution_count": 5,
   "metadata": {},
   "outputs": [],
   "source": [
    "##print(yt.description)"
   ]
  },
  {
   "cell_type": "code",
   "execution_count": 6,
   "metadata": {},
   "outputs": [],
   "source": [
    "##print(yt.rating)"
   ]
  },
  {
   "cell_type": "code",
   "execution_count": 7,
   "metadata": {},
   "outputs": [],
   "source": [
    "##print(yt.views)"
   ]
  },
  {
   "cell_type": "code",
   "execution_count": 8,
   "metadata": {},
   "outputs": [],
   "source": [
    "##st=yt.streams.first()"
   ]
  },
  {
   "cell_type": "code",
   "execution_count": 9,
   "metadata": {},
   "outputs": [],
   "source": [
    "##st.download()"
   ]
  },
  {
   "cell_type": "code",
   "execution_count": 2,
   "metadata": {},
   "outputs": [],
   "source": [
    "font=(\"verdana\",20)"
   ]
  },
  {
   "cell_type": "code",
   "execution_count": 3,
   "metadata": {},
   "outputs": [],
   "source": [
    "file_size=0\n"
   ]
  },
  {
   "cell_type": "code",
   "execution_count": 6,
   "metadata": {},
   "outputs": [],
   "source": [
    "#oncomplt\n",
    "def completeDownload(stream=None,file=None):\n",
    "    print(\"download complet!!\")\n",
    "    showinfo(\"message\",\"file has been download.....\")\n",
    "    downloadBtn['text'] = \"Download Video\"\n",
    "    downloadBtn['state'] = \"active\"\n",
    "    urlField.delete(0, END)\n",
    "#onprogress    \n",
    "def progressDownload(stream=\"None\",chunk=None,bytes_remaining=None):\n",
    "    percent=(100*((file_size-bytes_remaining)/file_size))\n",
    "   \n",
    "    downloadBtn['text'] = \"{:00.0f}% downloaded \".format(percent)\n",
    "\n",
    "#donwnload coding\n",
    "def startDownload(url):\n",
    "    global file_size\n",
    "    path_to_save = askdirectory()\n",
    "    if path_to_save is None:\n",
    "        return\n",
    "    try:\n",
    "        yt=YouTube(url)\n",
    "        st=yt.streams.first()\n",
    "        yt.register_on_complete_callback(completeDownload)\n",
    "        \n",
    "        yt.register_on_progress_callback(progressDownload)\n",
    "        file_size=st.filesize\n",
    "        st.download(output_path=path_to_save)\n",
    "       \n",
    "    except Exception as e:\n",
    "        print(e)\n",
    "        \n",
    "def btnclk():\n",
    "    try:\n",
    "        downloadBtn['text']=\"please wait.....\"\n",
    "        downloadBtn['state']=\"disabled\"\n",
    "        url=urlField.get()\n",
    "        if url==\"\":\n",
    "            return\n",
    "        \n",
    "        \n",
    "        thread=Thread(target=startDownload,args=(url,))\n",
    "        thread.start()\n",
    "    except Exception as e:\n",
    "        print(e)"
   ]
  },
  {
   "cell_type": "code",
   "execution_count": 7,
   "metadata": {},
   "outputs": [],
   "source": [
    "# gui coding\n",
    "root=Tk()\n",
    "root.title(\"My Youtube Downloader\")\n",
    "root.iconbitmap(\"icon.ico\")\n",
    "root.geometry(\"500x600\")\n",
    "## main icon\n",
    "#file=PhotoImage(file=\"Dakirby309-Simply-Styled-YouTube.ico\")\n",
    "#headingIcon=Label(root, image=file)\n",
    "#headingIcon.pack(side=TOP, pady=3)\n",
    "#making urlfield\n",
    "urlField=Entry(root,font=font,justify=CENTER)\n",
    "urlField.pack(side=TOP,fill=X,padx=50,pady=150)\n",
    "urlField.focus()\n",
    "\n",
    "##download button\n",
    "downloadBtn=Button(root,text=\"Download Video\",font=font,relief=\"ridge\",command=btnclk)\n",
    "downloadBtn.pack(side=TOP,pady=20)\n",
    "root.mainloop()"
   ]
  },
  {
   "cell_type": "raw",
   "metadata": {},
   "source": []
  }
 ],
 "metadata": {
  "kernelspec": {
   "display_name": "Python 3",
   "language": "python",
   "name": "python3"
  },
  "language_info": {
   "codemirror_mode": {
    "name": "ipython",
    "version": 3
   },
   "file_extension": ".py",
   "mimetype": "text/x-python",
   "name": "python",
   "nbconvert_exporter": "python",
   "pygments_lexer": "ipython3",
   "version": "3.7.4"
  }
 },
 "nbformat": 4,
 "nbformat_minor": 4
}
